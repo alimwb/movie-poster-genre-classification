{
 "cells": [
  {
   "cell_type": "code",
   "execution_count": null,
   "metadata": {},
   "outputs": [],
   "source": [
    "import pandas as pd\n",
    "import numpy as np\n",
    "import io\n",
    "import sys\n",
    "import os.path\n",
    "import urllib.request\n",
    "from tqdm import tqdm\n",
    "from os import listdir\n",
    "from PIL import Image\n",
    "import glob\n",
    "\n",
    "pd.set_option('display.max_colwidth', None)\n",
    "np.set_printoptions(threshold=sys.maxsize)\n"
   ]
  },
  {
   "cell_type": "code",
   "execution_count": null,
   "metadata": {},
   "outputs": [],
   "source": [
    "df = pd.read_csv(\"csv-files/MovieGenre.csv\",encoding='ISO-8859-1')\n",
    "df.head()"
   ]
  },
  {
   "cell_type": "code",
   "execution_count": null,
   "metadata": {},
   "outputs": [],
   "source": [
    "df.shape"
   ]
  },
  {
   "cell_type": "code",
   "execution_count": null,
   "metadata": {},
   "outputs": [],
   "source": [
    "check_nan_in_df = df.isnull().values.any()\n",
    "print (check_nan_in_df)"
   ]
  },
  {
   "cell_type": "code",
   "execution_count": null,
   "metadata": {},
   "outputs": [],
   "source": [
    "#Remove NaN valued entries\n",
    "df= df.dropna(how='any')\n",
    "df.shape"
   ]
  },
  {
   "cell_type": "code",
   "execution_count": null,
   "metadata": {},
   "outputs": [],
   "source": [
    "#Method 1 to download images\n",
    "\n",
    "not_found = []\n",
    "for index, row in tqdm(df.iterrows()):\n",
    "    \n",
    "    url = row['Poster']\n",
    "    imdb_id = row['imdbId']\n",
    "    \n",
    "    file_path = \"Posters/\" + str(imdb_id) + \".jpg\"\n",
    "    \n",
    "    try:\n",
    "        response = urllib.request.urlopen(url)\n",
    "        data = response.read()\n",
    "        file = open(file_path, 'wb')\n",
    "        file.write(bytearray(data))\n",
    "        file.close()\n",
    "    except:\n",
    "        not_found.append(imdb_id)\n",
    "        \n",
    "print(\"Number of posters not found = \", len(not_found))\n",
    "print(\"Following IMDB_ID posters were not found::\", not_found)"
   ]
  },
  {
   "cell_type": "code",
   "execution_count": null,
   "metadata": {},
   "outputs": [],
   "source": [
    "# Remove from dataframe those whose posters were not found\n",
    "df_2 = df[~df['imdbId'].isin(not_found)]\n",
    "df_2.shape"
   ]
  },
  {
   "cell_type": "code",
   "execution_count": null,
   "metadata": {},
   "outputs": [],
   "source": [
    "# Check which downloaded images are corrupt and remove them \n",
    "bad_images = []\n",
    "for file in glob.glob(\"Posters/*.jpg\"):\n",
    "\n",
    "    try:\n",
    "        img = Image.open(file) # open image file\n",
    "        img.verify() # verify its an image\n",
    "    except (IOError, SyntaxError) as e:\n",
    "        print('Bad file:', file) \n",
    "\n",
    "        bad_images.append(file)\n",
    "        \n",
    "print(\"Number of corrupt files:\", len(bad_images))"
   ]
  },
  {
   "cell_type": "code",
   "execution_count": null,
   "metadata": {},
   "outputs": [],
   "source": [
    "# No corrupt files found so not performing any further data-cleaning in terms of unfound/bad data"
   ]
  },
  {
   "cell_type": "code",
   "execution_count": null,
   "metadata": {},
   "outputs": [],
   "source": [
    "df_2.columns\n",
    "df_2.head()"
   ]
  },
  {
   "cell_type": "code",
   "execution_count": null,
   "metadata": {},
   "outputs": [],
   "source": [
    "# Keep only IMDB_ID, Genres, Title\n",
    "\n",
    "df_3 = df_2[['imdbId','Title','Genre']]\n",
    "print(df_3.shape)\n",
    "df_3.head()"
   ]
  },
  {
   "cell_type": "code",
   "execution_count": null,
   "metadata": {},
   "outputs": [],
   "source": [
    "#Checking if all the imdb_id listed here actually have its poster image\n",
    "\n",
    "image_list = []\n",
    "for file in glob.glob(\"Posters/*.jpg\"):\n",
    "    image_list.append(file)\n",
    "    \n",
    "print(\"Number of files found:\", len(image_list))"
   ]
  },
  {
   "cell_type": "code",
   "execution_count": null,
   "metadata": {},
   "outputs": [],
   "source": [
    "# Mis-match still exists, so we further perform data-cleaning\n",
    "# This is performed in the next python script: \"Clean_data\"\n",
    "# We export the df_3 as csv, to be used with images downloaded in the Posters folder\n",
    "\n",
    "df_3.to_csv(\"MovieGenre_cleaned.csv\", index = None)"
   ]
  },
  {
   "cell_type": "code",
   "execution_count": null,
   "metadata": {},
   "outputs": [],
   "source": []
  }
 ],
 "metadata": {
  "kernelspec": {
   "display_name": "Python 3 (ipykernel)",
   "language": "python",
   "name": "python3"
  },
  "language_info": {
   "codemirror_mode": {
    "name": "ipython",
    "version": 3
   },
   "file_extension": ".py",
   "mimetype": "text/x-python",
   "name": "python",
   "nbconvert_exporter": "python",
   "pygments_lexer": "ipython3",
   "version": "3.11.7"
  }
 },
 "nbformat": 4,
 "nbformat_minor": 4
}
